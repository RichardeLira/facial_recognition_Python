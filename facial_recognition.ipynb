{
  "nbformat": 4,
  "nbformat_minor": 0,
  "metadata": {
    "colab": {
      "name": "facial recognition.ipynb",
      "provenance": []
    },
    "kernelspec": {
      "name": "python3",
      "display_name": "Python 3"
    },
    "language_info": {
      "name": "python"
    }
  },
  "cells": [
    {
      "cell_type": "code",
      "source": [
        "!pip install mediapipe"
      ],
      "metadata": {
        "colab": {
          "base_uri": "https://localhost:8080/"
        },
        "id": "mATQW87nmQEg",
        "outputId": "ff208e7a-476b-468a-e304-1ccf9659e438"
      },
      "execution_count": 2,
      "outputs": [
        {
          "output_type": "stream",
          "name": "stdout",
          "text": [
            "Collecting mediapipe\n",
            "  Downloading mediapipe-0.8.9.1-cp37-cp37m-manylinux_2_17_x86_64.manylinux2014_x86_64.whl (32.7 MB)\n",
            "\u001b[K     |████████████████████████████████| 32.7 MB 40.4 MB/s \n",
            "\u001b[?25hRequirement already satisfied: matplotlib in /usr/local/lib/python3.7/dist-packages (from mediapipe) (3.2.2)\n",
            "Requirement already satisfied: numpy in /usr/local/lib/python3.7/dist-packages (from mediapipe) (1.21.5)\n",
            "Requirement already satisfied: opencv-contrib-python in /usr/local/lib/python3.7/dist-packages (from mediapipe) (4.1.2.30)\n",
            "Requirement already satisfied: protobuf>=3.11.4 in /usr/local/lib/python3.7/dist-packages (from mediapipe) (3.17.3)\n",
            "Requirement already satisfied: absl-py in /usr/local/lib/python3.7/dist-packages (from mediapipe) (1.0.0)\n",
            "Requirement already satisfied: attrs>=19.1.0 in /usr/local/lib/python3.7/dist-packages (from mediapipe) (21.4.0)\n",
            "Requirement already satisfied: six>=1.9 in /usr/local/lib/python3.7/dist-packages (from protobuf>=3.11.4->mediapipe) (1.15.0)\n",
            "Requirement already satisfied: python-dateutil>=2.1 in /usr/local/lib/python3.7/dist-packages (from matplotlib->mediapipe) (2.8.2)\n",
            "Requirement already satisfied: cycler>=0.10 in /usr/local/lib/python3.7/dist-packages (from matplotlib->mediapipe) (0.11.0)\n",
            "Requirement already satisfied: pyparsing!=2.0.4,!=2.1.2,!=2.1.6,>=2.0.1 in /usr/local/lib/python3.7/dist-packages (from matplotlib->mediapipe) (3.0.7)\n",
            "Requirement already satisfied: kiwisolver>=1.0.1 in /usr/local/lib/python3.7/dist-packages (from matplotlib->mediapipe) (1.4.0)\n",
            "Requirement already satisfied: typing-extensions in /usr/local/lib/python3.7/dist-packages (from kiwisolver>=1.0.1->matplotlib->mediapipe) (3.10.0.2)\n",
            "Installing collected packages: mediapipe\n",
            "Successfully installed mediapipe-0.8.9.1\n"
          ]
        }
      ]
    },
    {
      "cell_type": "code",
      "execution_count": null,
      "metadata": {
        "id": "xL9xTxXXkd7F"
      },
      "outputs": [],
      "source": [
        "import cv2   #openCV\n",
        "import mediapipe as mp \n",
        "\n",
        "#Started openCV \n",
        "webcam =  cv2.VideoCapture()  #select your webcam  -> default (0)\n",
        "recognition_tool = mp.solutions.face_dection \n",
        "face_recognition = recognition_tool.face_dection() # face detecion\n",
        "drawing = mp.solutions.drawing_utils  #drawing \n",
        "\n",
        "#check each frame \n",
        "\n",
        "while True: \n",
        "  #check webcam information\n",
        "  capturing_check, frame = webcam.read() \n",
        "  if not capturing_check: \n",
        "    print(\"Fail capture\") \n",
        "    break\n",
        "  #face recognition\n",
        "  faces_list  = face_recognition.process(frame)  \n",
        "\n",
        "  if faces_list.dections: \n",
        "    for face in faces_list.dections: \n",
        "      #drawing the face\n",
        "      drawing.draw_detection(frame, face)\n",
        "\n",
        "  cv2.imshow(\"Faces\" , frame)\n",
        "  #stop when esc is press\n",
        "  if cv2.waitkey(16) == 27: \n",
        "    break\n",
        "\n",
        "\n",
        "webcam.release()  \n",
        "cv2.destroyAllWindows()\n",
        "\n",
        "  \n",
        "  \n",
        "  \n",
        "  \n",
        "  \n",
        "\n"
      ]
    }
  ]
}